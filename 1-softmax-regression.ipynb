{
 "cells": [
  {
   "cell_type": "markdown",
   "metadata": {},
   "source": [
    "# softmax回归模型\n",
    "\n",
    "对MNIST数据集进行分类\n",
    "\n",
    "数据集提取为三个部分：mnist.train、mnist.test和mnist.validation，每个部分包含有images和labels。train、test和validation中样本的数量分别为55000、10000和5000。我们可以使用这些数据来训练、测试和验证模型。"
   ]
  },
  {
   "cell_type": "code",
   "execution_count": 26,
   "metadata": {},
   "outputs": [
    {
     "name": "stdout",
     "output_type": "stream",
     "text": [
      "Extracting data/MNIST/train-images-idx3-ubyte.gz\n",
      "Extracting data/MNIST/train-labels-idx1-ubyte.gz\n",
      "Extracting data/MNIST/t10k-images-idx3-ubyte.gz\n",
      "Extracting data/MNIST/t10k-labels-idx1-ubyte.gz\n"
     ]
    }
   ],
   "source": [
    "import tensorflow as tf\n",
    "import numpy\n",
    "import matplotlib.pyplot as plt\n",
    "\n",
    "from tensorflow.examples.tutorials.mnist import input_data # Import MNIST\n",
    "mnist = input_data.read_data_sets(\"data/MNIST\", one_hot=True)"
   ]
  },
  {
   "cell_type": "code",
   "execution_count": 27,
   "metadata": {},
   "outputs": [],
   "source": [
    "# 载入数据\n",
    "X_train = mnist.train.images\n",
    "Y_train = mnist.train.labels\n",
    "X_test = mnist.test.images\n",
    "Y_test = mnist.test.labels\n",
    "\n",
    "# 训练参数设置\n",
    "learning_rate = 0.01\n",
    "training_epochs = 1000\n",
    "display_step = 50"
   ]
  },
  {
   "cell_type": "code",
   "execution_count": 36,
   "metadata": {},
   "outputs": [
    {
     "name": "stdout",
     "output_type": "stream",
     "text": [
      "WARNING:tensorflow:From /home/zjw/anaconda3/lib/python3.6/site-packages/tensorflow/python/util/tf_should_use.py:175: initialize_all_variables (from tensorflow.python.ops.variables) is deprecated and will be removed after 2017-03-02.\n",
      "Instructions for updating:\n",
      "Use `tf.global_variables_initializer` instead.\n"
     ]
    }
   ],
   "source": [
    "W = tf.Variable(tf.ones([784,10]), dtype=tf.float32)  \n",
    "b = tf.Variable(tf.ones([10]), dtype=tf.float32)\n",
    "\n",
    "x = tf.placeholder(tf.float32, [None, 784])           # None表示样本的数量可以是任意的\n",
    "y = tf.nn.softmax(tf.matmul(x,W) + b)                 # tf.matmul代表矩阵相乘\n",
    "\n",
    "# 训练数据真实标记\n",
    "y_ = tf.placeholder(tf.float32, [None, 10])           \n",
    "\n",
    "# loss定义为交叉熵\n",
    "cross_entropy = -tf.reduce_sum(y_ * tf.log(y))        # reduce_sum一层网络的交叉熵\n",
    "\n",
    "# 采用简单的梯度下降优化器\n",
    "train = tf.train.GradientDescentOptimizer(learning_rate).minimize(cross_entropy)\n",
    "init = tf.initialize_all_variables()\n"
   ]
  },
  {
   "cell_type": "code",
   "execution_count": 43,
   "metadata": {},
   "outputs": [
    {
     "name": "stdout",
     "output_type": "stream",
     "text": [
      "epoch:  50 loss: 34.57714 accuracy:  0.8789\n",
      "epoch:  100 loss: 26.62678 accuracy:  0.8716\n",
      "epoch:  150 loss: 19.78087 accuracy:  0.89\n",
      "epoch:  200 loss: 34.98009 accuracy:  0.8581\n",
      "epoch:  250 loss: 38.93754 accuracy:  0.8891\n",
      "epoch:  300 loss: 19.84184 accuracy:  0.9091\n",
      "epoch:  350 loss: 17.14631 accuracy:  0.9137\n",
      "epoch:  400 loss: 20.30915 accuracy:  0.9112\n",
      "epoch:  450 loss: 17.52397 accuracy:  0.9051\n",
      "epoch:  500 loss: 32.73577 accuracy:  0.9003\n",
      "epoch:  550 loss: 20.75737 accuracy:  0.9129\n",
      "epoch:  600 loss: 15.50015 accuracy:  0.9159\n",
      "epoch:  650 loss: 30.25299 accuracy:  0.9029\n",
      "epoch:  700 loss: 20.37262 accuracy:  0.9175\n",
      "epoch:  750 loss: 20.67638 accuracy:  0.9013\n",
      "epoch:  800 loss: 15.10788 accuracy:  0.9169\n",
      "epoch:  850 loss: 26.42285 accuracy:  0.9142\n",
      "epoch:  900 loss: 16.44164 accuracy:  0.9184\n",
      "epoch:  950 loss: 25.30693 accuracy:  0.916\n",
      "epoch:  1000 loss: 27.81089 accuracy:  0.912\n",
      "Optimize over\n"
     ]
    }
   ],
   "source": [
    "with tf.Session() as sess:\n",
    "    sess.run(init)\n",
    "    \n",
    "    for i in range(training_epochs):\n",
    "        \n",
    "        batch_xs, batch_ys = mnist.train.next_batch(100) #使用minibatch的训练数据，一个batch的大小为100\n",
    "        sess.run(train, {x: batch_xs, y_: batch_ys})\n",
    "        \n",
    "        #tf.argmax()返回的是某一维度上其数据最大所在的索引值，在这里即代表预测值和真值\n",
    "        correct_prediction = tf.equal(tf.argmax(y,1), tf.argmax(y_,1)) \n",
    "        accuracy = tf.reduce_mean(tf.cast(correct_prediction, \"float\"))\n",
    "        \n",
    "        if (i + 1) % display_step == 0:\n",
    "            print('epoch: ',i+1, 'loss: {:.5f}'.format(sess.run(cross_entropy,{x: batch_xs, y_: batch_ys})), \\\n",
    "                  'accuracy: ',sess.run(accuracy, feed_dict={x: mnist.test.images, y_: mnist.test.labels}))\n",
    "            \n",
    "    print('Optimize over')"
   ]
  },
  {
   "cell_type": "code",
   "execution_count": null,
   "metadata": {},
   "outputs": [],
   "source": []
  }
 ],
 "metadata": {
  "kernelspec": {
   "display_name": "Python 3",
   "language": "python",
   "name": "python3"
  },
  "language_info": {
   "codemirror_mode": {
    "name": "ipython",
    "version": 3
   },
   "file_extension": ".py",
   "mimetype": "text/x-python",
   "name": "python",
   "nbconvert_exporter": "python",
   "pygments_lexer": "ipython3",
   "version": "3.6.4"
  }
 },
 "nbformat": 4,
 "nbformat_minor": 2
}
